{
 "cells": [
  {
   "cell_type": "markdown",
   "id": "47074298",
   "metadata": {},
   "source": [
    "For this lab we will build a model on customer churn binary classification problem. You will be using Data/DATA_Customer-Churn.csv file.\n",
    "\n",
    "Scenario\n",
    "You are working as an analyst with this internet service provider. You are provided with this historical data about your company's customers and their churn trends. Your task is to build a machine learning model that will help the company identify customers that are more likely to default/churn and thus prevent losses from such customers.\n",
    "\n",
    "Instructions\n",
    "In this lab, we will first take a look at the degree of imbalance in the data and correct it using the techniques we learned on the class.\n",
    "\n",
    "Here is the list of steps to be followed (building a simple model without balancing the data):\n",
    "\n",
    "- Import the required libraries and modules that you would need.\n",
    "- Read that data into Python and call the dataframe churnData.\n",
    "- Check the datatypes of all the columns in the data. You would see that the column TotalCharges is object type. Convert this column into numeric type using pd.to_numeric function.\n",
    "- Check for null values in the dataframe. Replace the null values.\n",
    "- Use the following features: tenure, SeniorCitizen, MonthlyCharges and TotalCharges:\n",
    "- Scale the features either by using normalizer or a standard scaler.\n",
    "- Split the data into a training set and a test set.\n",
    "- Fit a logistic Regression model on the training data.\n",
    "- Fit a Knn Classifier model on the training data\n",
    "\n",
    "\n",
    "Round 2\n",
    "\n",
    "Fit a Decision Tree Classifier on the training data.\n",
    "Check the accuracy on the test data.\n",
    "Round 3\n",
    "\n",
    "apply K-fold cross validation on your models before and check the model score. Note: So far we have not balanced the data.\n",
    "Round 4\n",
    "\n",
    "fit a Random forest Classifier on the data and compare the accuracy.\n",
    "tune the hyper paramters with gridsearch and check the results.\n",
    "Managing imbalance in the dataset\n",
    "\n",
    "Check for the imbalance.\n",
    "Use the resampling strategies used in class for upsampling and downsampling to create a balance between the two classes.\n",
    "Each time fit the model and see how the accuracy of the model is."
   ]
  },
  {
   "cell_type": "code",
   "execution_count": 1,
   "id": "f0e8a55f",
   "metadata": {},
   "outputs": [],
   "source": [
    "#pos label use!\n",
    "#labels ="
   ]
  },
  {
   "cell_type": "markdown",
   "id": "2b194eb8",
   "metadata": {},
   "source": [
    "### Loading Libraries"
   ]
  },
  {
   "cell_type": "code",
   "execution_count": 2,
   "id": "6e426cc3",
   "metadata": {},
   "outputs": [
    {
     "name": "stderr",
     "output_type": "stream",
     "text": [
      "C:\\Users\\isikh\\anaconda3\\envs\\DA_Env\\lib\\site-packages\\statsmodels\\compat\\pandas.py:61: FutureWarning: pandas.Int64Index is deprecated and will be removed from pandas in a future version. Use pandas.Index with the appropriate dtype instead.\n",
      "  from pandas import Int64Index as NumericIndex\n"
     ]
    }
   ],
   "source": [
    "import pandas as pd\n",
    "import numpy as np;\n",
    "import scipy;\n",
    "## plotting libraries\n",
    "from matplotlib import pyplot as plt\n",
    "import seaborn as sns\n",
    "## stats Libraries\n",
    "from scipy import stats\n",
    "import statsmodels.api as sm\n",
    "## Sklearn libraries\n",
    "from sklearn import model_selection\n",
    "from sklearn import metrics as metrics\n",
    "from sklearn import preprocessing\n",
    "from sklearn import linear_model as lm\n",
    "%matplotlib inline\n",
    "from sklearn.model_selection import train_test_split\n",
    "\n",
    "from sklearn.linear_model import LogisticRegression\n",
    "from sklearn.preprocessing import PowerTransformer\n",
    "from sklearn.metrics import accuracy_score, precision_score, recall_score, confusion_matrix\n",
    "from sklearn.metrics import plot_confusion_matrix"
   ]
  },
  {
   "cell_type": "markdown",
   "id": "4810757f",
   "metadata": {},
   "source": [
    "### Data splitting"
   ]
  },
  {
   "cell_type": "markdown",
   "id": "1ee9e293",
   "metadata": {},
   "source": [
    "#### Loading a dataset for classification"
   ]
  },
  {
   "cell_type": "code",
   "execution_count": 3,
   "id": "5b8d2dc0",
   "metadata": {},
   "outputs": [
    {
     "data": {
      "text/html": [
       "<div>\n",
       "<style scoped>\n",
       "    .dataframe tbody tr th:only-of-type {\n",
       "        vertical-align: middle;\n",
       "    }\n",
       "\n",
       "    .dataframe tbody tr th {\n",
       "        vertical-align: top;\n",
       "    }\n",
       "\n",
       "    .dataframe thead th {\n",
       "        text-align: right;\n",
       "    }\n",
       "</style>\n",
       "<table border=\"1\" class=\"dataframe\">\n",
       "  <thead>\n",
       "    <tr style=\"text-align: right;\">\n",
       "      <th></th>\n",
       "      <th>gender</th>\n",
       "      <th>SeniorCitizen</th>\n",
       "      <th>Partner</th>\n",
       "      <th>Dependents</th>\n",
       "      <th>tenure</th>\n",
       "      <th>PhoneService</th>\n",
       "      <th>OnlineSecurity</th>\n",
       "      <th>OnlineBackup</th>\n",
       "      <th>DeviceProtection</th>\n",
       "      <th>TechSupport</th>\n",
       "      <th>StreamingTV</th>\n",
       "      <th>StreamingMovies</th>\n",
       "      <th>Contract</th>\n",
       "      <th>MonthlyCharges</th>\n",
       "      <th>TotalCharges</th>\n",
       "      <th>Churn</th>\n",
       "    </tr>\n",
       "  </thead>\n",
       "  <tbody>\n",
       "    <tr>\n",
       "      <th>0</th>\n",
       "      <td>Female</td>\n",
       "      <td>0</td>\n",
       "      <td>Yes</td>\n",
       "      <td>No</td>\n",
       "      <td>1</td>\n",
       "      <td>No</td>\n",
       "      <td>No</td>\n",
       "      <td>Yes</td>\n",
       "      <td>No</td>\n",
       "      <td>No</td>\n",
       "      <td>No</td>\n",
       "      <td>No</td>\n",
       "      <td>Month-to-month</td>\n",
       "      <td>29.85</td>\n",
       "      <td>29.85</td>\n",
       "      <td>No</td>\n",
       "    </tr>\n",
       "    <tr>\n",
       "      <th>1</th>\n",
       "      <td>Male</td>\n",
       "      <td>0</td>\n",
       "      <td>No</td>\n",
       "      <td>No</td>\n",
       "      <td>34</td>\n",
       "      <td>Yes</td>\n",
       "      <td>Yes</td>\n",
       "      <td>No</td>\n",
       "      <td>Yes</td>\n",
       "      <td>No</td>\n",
       "      <td>No</td>\n",
       "      <td>No</td>\n",
       "      <td>One year</td>\n",
       "      <td>56.95</td>\n",
       "      <td>1889.5</td>\n",
       "      <td>No</td>\n",
       "    </tr>\n",
       "    <tr>\n",
       "      <th>2</th>\n",
       "      <td>Male</td>\n",
       "      <td>0</td>\n",
       "      <td>No</td>\n",
       "      <td>No</td>\n",
       "      <td>2</td>\n",
       "      <td>Yes</td>\n",
       "      <td>Yes</td>\n",
       "      <td>Yes</td>\n",
       "      <td>No</td>\n",
       "      <td>No</td>\n",
       "      <td>No</td>\n",
       "      <td>No</td>\n",
       "      <td>Month-to-month</td>\n",
       "      <td>53.85</td>\n",
       "      <td>108.15</td>\n",
       "      <td>Yes</td>\n",
       "    </tr>\n",
       "    <tr>\n",
       "      <th>3</th>\n",
       "      <td>Male</td>\n",
       "      <td>0</td>\n",
       "      <td>No</td>\n",
       "      <td>No</td>\n",
       "      <td>45</td>\n",
       "      <td>No</td>\n",
       "      <td>Yes</td>\n",
       "      <td>No</td>\n",
       "      <td>Yes</td>\n",
       "      <td>Yes</td>\n",
       "      <td>No</td>\n",
       "      <td>No</td>\n",
       "      <td>One year</td>\n",
       "      <td>42.30</td>\n",
       "      <td>1840.75</td>\n",
       "      <td>No</td>\n",
       "    </tr>\n",
       "    <tr>\n",
       "      <th>4</th>\n",
       "      <td>Female</td>\n",
       "      <td>0</td>\n",
       "      <td>No</td>\n",
       "      <td>No</td>\n",
       "      <td>2</td>\n",
       "      <td>Yes</td>\n",
       "      <td>No</td>\n",
       "      <td>No</td>\n",
       "      <td>No</td>\n",
       "      <td>No</td>\n",
       "      <td>No</td>\n",
       "      <td>No</td>\n",
       "      <td>Month-to-month</td>\n",
       "      <td>70.70</td>\n",
       "      <td>151.65</td>\n",
       "      <td>Yes</td>\n",
       "    </tr>\n",
       "    <tr>\n",
       "      <th>...</th>\n",
       "      <td>...</td>\n",
       "      <td>...</td>\n",
       "      <td>...</td>\n",
       "      <td>...</td>\n",
       "      <td>...</td>\n",
       "      <td>...</td>\n",
       "      <td>...</td>\n",
       "      <td>...</td>\n",
       "      <td>...</td>\n",
       "      <td>...</td>\n",
       "      <td>...</td>\n",
       "      <td>...</td>\n",
       "      <td>...</td>\n",
       "      <td>...</td>\n",
       "      <td>...</td>\n",
       "      <td>...</td>\n",
       "    </tr>\n",
       "    <tr>\n",
       "      <th>7038</th>\n",
       "      <td>Male</td>\n",
       "      <td>0</td>\n",
       "      <td>Yes</td>\n",
       "      <td>Yes</td>\n",
       "      <td>24</td>\n",
       "      <td>Yes</td>\n",
       "      <td>Yes</td>\n",
       "      <td>No</td>\n",
       "      <td>Yes</td>\n",
       "      <td>Yes</td>\n",
       "      <td>Yes</td>\n",
       "      <td>Yes</td>\n",
       "      <td>One year</td>\n",
       "      <td>84.80</td>\n",
       "      <td>1990.5</td>\n",
       "      <td>No</td>\n",
       "    </tr>\n",
       "    <tr>\n",
       "      <th>7039</th>\n",
       "      <td>Female</td>\n",
       "      <td>0</td>\n",
       "      <td>Yes</td>\n",
       "      <td>Yes</td>\n",
       "      <td>72</td>\n",
       "      <td>Yes</td>\n",
       "      <td>No</td>\n",
       "      <td>Yes</td>\n",
       "      <td>Yes</td>\n",
       "      <td>No</td>\n",
       "      <td>Yes</td>\n",
       "      <td>Yes</td>\n",
       "      <td>One year</td>\n",
       "      <td>103.20</td>\n",
       "      <td>7362.9</td>\n",
       "      <td>No</td>\n",
       "    </tr>\n",
       "    <tr>\n",
       "      <th>7040</th>\n",
       "      <td>Female</td>\n",
       "      <td>0</td>\n",
       "      <td>Yes</td>\n",
       "      <td>Yes</td>\n",
       "      <td>11</td>\n",
       "      <td>No</td>\n",
       "      <td>Yes</td>\n",
       "      <td>No</td>\n",
       "      <td>No</td>\n",
       "      <td>No</td>\n",
       "      <td>No</td>\n",
       "      <td>No</td>\n",
       "      <td>Month-to-month</td>\n",
       "      <td>29.60</td>\n",
       "      <td>346.45</td>\n",
       "      <td>No</td>\n",
       "    </tr>\n",
       "    <tr>\n",
       "      <th>7041</th>\n",
       "      <td>Male</td>\n",
       "      <td>1</td>\n",
       "      <td>Yes</td>\n",
       "      <td>No</td>\n",
       "      <td>4</td>\n",
       "      <td>Yes</td>\n",
       "      <td>No</td>\n",
       "      <td>No</td>\n",
       "      <td>No</td>\n",
       "      <td>No</td>\n",
       "      <td>No</td>\n",
       "      <td>No</td>\n",
       "      <td>Month-to-month</td>\n",
       "      <td>74.40</td>\n",
       "      <td>306.6</td>\n",
       "      <td>Yes</td>\n",
       "    </tr>\n",
       "    <tr>\n",
       "      <th>7042</th>\n",
       "      <td>Male</td>\n",
       "      <td>0</td>\n",
       "      <td>No</td>\n",
       "      <td>No</td>\n",
       "      <td>66</td>\n",
       "      <td>Yes</td>\n",
       "      <td>Yes</td>\n",
       "      <td>No</td>\n",
       "      <td>Yes</td>\n",
       "      <td>Yes</td>\n",
       "      <td>Yes</td>\n",
       "      <td>Yes</td>\n",
       "      <td>Two year</td>\n",
       "      <td>105.65</td>\n",
       "      <td>6844.5</td>\n",
       "      <td>No</td>\n",
       "    </tr>\n",
       "  </tbody>\n",
       "</table>\n",
       "<p>7043 rows × 16 columns</p>\n",
       "</div>"
      ],
      "text/plain": [
       "      gender  SeniorCitizen Partner Dependents  tenure PhoneService  \\\n",
       "0     Female              0     Yes         No       1           No   \n",
       "1       Male              0      No         No      34          Yes   \n",
       "2       Male              0      No         No       2          Yes   \n",
       "3       Male              0      No         No      45           No   \n",
       "4     Female              0      No         No       2          Yes   \n",
       "...      ...            ...     ...        ...     ...          ...   \n",
       "7038    Male              0     Yes        Yes      24          Yes   \n",
       "7039  Female              0     Yes        Yes      72          Yes   \n",
       "7040  Female              0     Yes        Yes      11           No   \n",
       "7041    Male              1     Yes         No       4          Yes   \n",
       "7042    Male              0      No         No      66          Yes   \n",
       "\n",
       "     OnlineSecurity OnlineBackup DeviceProtection TechSupport StreamingTV  \\\n",
       "0                No          Yes               No          No          No   \n",
       "1               Yes           No              Yes          No          No   \n",
       "2               Yes          Yes               No          No          No   \n",
       "3               Yes           No              Yes         Yes          No   \n",
       "4                No           No               No          No          No   \n",
       "...             ...          ...              ...         ...         ...   \n",
       "7038            Yes           No              Yes         Yes         Yes   \n",
       "7039             No          Yes              Yes          No         Yes   \n",
       "7040            Yes           No               No          No          No   \n",
       "7041             No           No               No          No          No   \n",
       "7042            Yes           No              Yes         Yes         Yes   \n",
       "\n",
       "     StreamingMovies        Contract  MonthlyCharges TotalCharges Churn  \n",
       "0                 No  Month-to-month           29.85        29.85    No  \n",
       "1                 No        One year           56.95       1889.5    No  \n",
       "2                 No  Month-to-month           53.85       108.15   Yes  \n",
       "3                 No        One year           42.30      1840.75    No  \n",
       "4                 No  Month-to-month           70.70       151.65   Yes  \n",
       "...              ...             ...             ...          ...   ...  \n",
       "7038             Yes        One year           84.80       1990.5    No  \n",
       "7039             Yes        One year          103.20       7362.9    No  \n",
       "7040              No  Month-to-month           29.60       346.45    No  \n",
       "7041              No  Month-to-month           74.40        306.6   Yes  \n",
       "7042             Yes        Two year          105.65       6844.5    No  \n",
       "\n",
       "[7043 rows x 16 columns]"
      ]
     },
     "execution_count": 3,
     "metadata": {},
     "output_type": "execute_result"
    }
   ],
   "source": [
    "churnData = pd.read_csv(\"DATA_Customer-Churn.csv\")\n",
    "churnData"
   ]
  },
  {
   "cell_type": "code",
   "execution_count": 4,
   "id": "18cefb7c",
   "metadata": {},
   "outputs": [],
   "source": [
    "from sklearn import datasets"
   ]
  },
  {
   "cell_type": "code",
   "execution_count": 5,
   "id": "4d4f6e5c",
   "metadata": {},
   "outputs": [
    {
     "data": {
      "text/plain": [
       "gender              0\n",
       "SeniorCitizen       0\n",
       "Partner             0\n",
       "Dependents          0\n",
       "tenure              0\n",
       "PhoneService        0\n",
       "OnlineSecurity      0\n",
       "OnlineBackup        0\n",
       "DeviceProtection    0\n",
       "TechSupport         0\n",
       "StreamingTV         0\n",
       "StreamingMovies     0\n",
       "Contract            0\n",
       "MonthlyCharges      0\n",
       "TotalCharges        0\n",
       "Churn               0\n",
       "dtype: int64"
      ]
     },
     "execution_count": 5,
     "metadata": {},
     "output_type": "execute_result"
    }
   ],
   "source": [
    "churnData.isna().sum()"
   ]
  },
  {
   "cell_type": "code",
   "execution_count": 6,
   "id": "3cf43f6c",
   "metadata": {},
   "outputs": [
    {
     "name": "stdout",
     "output_type": "stream",
     "text": [
      "<class 'pandas.core.frame.DataFrame'>\n",
      "RangeIndex: 7043 entries, 0 to 7042\n",
      "Data columns (total 16 columns):\n",
      " #   Column            Non-Null Count  Dtype  \n",
      "---  ------            --------------  -----  \n",
      " 0   gender            7043 non-null   object \n",
      " 1   SeniorCitizen     7043 non-null   int64  \n",
      " 2   Partner           7043 non-null   object \n",
      " 3   Dependents        7043 non-null   object \n",
      " 4   tenure            7043 non-null   int64  \n",
      " 5   PhoneService      7043 non-null   object \n",
      " 6   OnlineSecurity    7043 non-null   object \n",
      " 7   OnlineBackup      7043 non-null   object \n",
      " 8   DeviceProtection  7043 non-null   object \n",
      " 9   TechSupport       7043 non-null   object \n",
      " 10  StreamingTV       7043 non-null   object \n",
      " 11  StreamingMovies   7043 non-null   object \n",
      " 12  Contract          7043 non-null   object \n",
      " 13  MonthlyCharges    7043 non-null   float64\n",
      " 14  TotalCharges      7032 non-null   float64\n",
      " 15  Churn             7043 non-null   object \n",
      "dtypes: float64(2), int64(2), object(12)\n",
      "memory usage: 880.5+ KB\n"
     ]
    }
   ],
   "source": [
    "churnData['TotalCharges'] = churnData['TotalCharges'].apply(pd.to_numeric, errors='coerce')\n",
    "\n",
    "churnData.info()\n",
    "\n",
    "#df[[\"a\", \"b\"]] = df[[\"a\", \"b\"]].apply(pd.to_numeric)"
   ]
  },
  {
   "cell_type": "code",
   "execution_count": 7,
   "id": "04e7c3b9",
   "metadata": {},
   "outputs": [
    {
     "data": {
      "text/plain": [
       "gender               0\n",
       "SeniorCitizen        0\n",
       "Partner              0\n",
       "Dependents           0\n",
       "tenure               0\n",
       "PhoneService         0\n",
       "OnlineSecurity       0\n",
       "OnlineBackup         0\n",
       "DeviceProtection     0\n",
       "TechSupport          0\n",
       "StreamingTV          0\n",
       "StreamingMovies      0\n",
       "Contract             0\n",
       "MonthlyCharges       0\n",
       "TotalCharges        11\n",
       "Churn                0\n",
       "dtype: int64"
      ]
     },
     "execution_count": 7,
     "metadata": {},
     "output_type": "execute_result"
    }
   ],
   "source": [
    "churnData.isna().sum()"
   ]
  },
  {
   "cell_type": "markdown",
   "id": "e7269b17",
   "metadata": {},
   "source": [
    "#### null values"
   ]
  },
  {
   "cell_type": "code",
   "execution_count": 8,
   "id": "c85f53b5",
   "metadata": {},
   "outputs": [],
   "source": [
    "churnData = churnData.dropna()\n"
   ]
  },
  {
   "cell_type": "code",
   "execution_count": 9,
   "id": "6f17cd87",
   "metadata": {},
   "outputs": [
    {
     "data": {
      "text/plain": [
       "gender              0\n",
       "SeniorCitizen       0\n",
       "Partner             0\n",
       "Dependents          0\n",
       "tenure              0\n",
       "PhoneService        0\n",
       "OnlineSecurity      0\n",
       "OnlineBackup        0\n",
       "DeviceProtection    0\n",
       "TechSupport         0\n",
       "StreamingTV         0\n",
       "StreamingMovies     0\n",
       "Contract            0\n",
       "MonthlyCharges      0\n",
       "TotalCharges        0\n",
       "Churn               0\n",
       "dtype: int64"
      ]
     },
     "execution_count": 9,
     "metadata": {},
     "output_type": "execute_result"
    }
   ],
   "source": [
    "churnData.isna().sum()"
   ]
  },
  {
   "cell_type": "code",
   "execution_count": 10,
   "id": "353f0f90",
   "metadata": {},
   "outputs": [
    {
     "data": {
      "text/html": [
       "<div>\n",
       "<style scoped>\n",
       "    .dataframe tbody tr th:only-of-type {\n",
       "        vertical-align: middle;\n",
       "    }\n",
       "\n",
       "    .dataframe tbody tr th {\n",
       "        vertical-align: top;\n",
       "    }\n",
       "\n",
       "    .dataframe thead th {\n",
       "        text-align: right;\n",
       "    }\n",
       "</style>\n",
       "<table border=\"1\" class=\"dataframe\">\n",
       "  <thead>\n",
       "    <tr style=\"text-align: right;\">\n",
       "      <th></th>\n",
       "      <th>tenure</th>\n",
       "      <th>SeniorCitizen</th>\n",
       "      <th>MonthlyCharges</th>\n",
       "      <th>TotalCharges</th>\n",
       "    </tr>\n",
       "  </thead>\n",
       "  <tbody>\n",
       "    <tr>\n",
       "      <th>0</th>\n",
       "      <td>1</td>\n",
       "      <td>0</td>\n",
       "      <td>29.85</td>\n",
       "      <td>29.85</td>\n",
       "    </tr>\n",
       "    <tr>\n",
       "      <th>1</th>\n",
       "      <td>34</td>\n",
       "      <td>0</td>\n",
       "      <td>56.95</td>\n",
       "      <td>1889.50</td>\n",
       "    </tr>\n",
       "    <tr>\n",
       "      <th>2</th>\n",
       "      <td>2</td>\n",
       "      <td>0</td>\n",
       "      <td>53.85</td>\n",
       "      <td>108.15</td>\n",
       "    </tr>\n",
       "    <tr>\n",
       "      <th>3</th>\n",
       "      <td>45</td>\n",
       "      <td>0</td>\n",
       "      <td>42.30</td>\n",
       "      <td>1840.75</td>\n",
       "    </tr>\n",
       "    <tr>\n",
       "      <th>4</th>\n",
       "      <td>2</td>\n",
       "      <td>0</td>\n",
       "      <td>70.70</td>\n",
       "      <td>151.65</td>\n",
       "    </tr>\n",
       "    <tr>\n",
       "      <th>...</th>\n",
       "      <td>...</td>\n",
       "      <td>...</td>\n",
       "      <td>...</td>\n",
       "      <td>...</td>\n",
       "    </tr>\n",
       "    <tr>\n",
       "      <th>7038</th>\n",
       "      <td>24</td>\n",
       "      <td>0</td>\n",
       "      <td>84.80</td>\n",
       "      <td>1990.50</td>\n",
       "    </tr>\n",
       "    <tr>\n",
       "      <th>7039</th>\n",
       "      <td>72</td>\n",
       "      <td>0</td>\n",
       "      <td>103.20</td>\n",
       "      <td>7362.90</td>\n",
       "    </tr>\n",
       "    <tr>\n",
       "      <th>7040</th>\n",
       "      <td>11</td>\n",
       "      <td>0</td>\n",
       "      <td>29.60</td>\n",
       "      <td>346.45</td>\n",
       "    </tr>\n",
       "    <tr>\n",
       "      <th>7041</th>\n",
       "      <td>4</td>\n",
       "      <td>1</td>\n",
       "      <td>74.40</td>\n",
       "      <td>306.60</td>\n",
       "    </tr>\n",
       "    <tr>\n",
       "      <th>7042</th>\n",
       "      <td>66</td>\n",
       "      <td>0</td>\n",
       "      <td>105.65</td>\n",
       "      <td>6844.50</td>\n",
       "    </tr>\n",
       "  </tbody>\n",
       "</table>\n",
       "<p>7032 rows × 4 columns</p>\n",
       "</div>"
      ],
      "text/plain": [
       "      tenure  SeniorCitizen  MonthlyCharges  TotalCharges\n",
       "0          1              0           29.85         29.85\n",
       "1         34              0           56.95       1889.50\n",
       "2          2              0           53.85        108.15\n",
       "3         45              0           42.30       1840.75\n",
       "4          2              0           70.70        151.65\n",
       "...      ...            ...             ...           ...\n",
       "7038      24              0           84.80       1990.50\n",
       "7039      72              0          103.20       7362.90\n",
       "7040      11              0           29.60        346.45\n",
       "7041       4              1           74.40        306.60\n",
       "7042      66              0          105.65       6844.50\n",
       "\n",
       "[7032 rows x 4 columns]"
      ]
     },
     "execution_count": 10,
     "metadata": {},
     "output_type": "execute_result"
    }
   ],
   "source": [
    "X=churnData[['tenure', 'SeniorCitizen', 'MonthlyCharges', 'TotalCharges']]\n",
    "#X=X._get_numeric_data()\n",
    "\n",
    "y =churnData[['Churn']]\n",
    "X"
   ]
  },
  {
   "cell_type": "code",
   "execution_count": 11,
   "id": "94605f72",
   "metadata": {},
   "outputs": [
    {
     "name": "stdout",
     "output_type": "stream",
     "text": [
      "<class 'pandas.core.frame.DataFrame'>\n",
      "Int64Index: 7032 entries, 0 to 7042\n",
      "Data columns (total 4 columns):\n",
      " #   Column          Non-Null Count  Dtype  \n",
      "---  ------          --------------  -----  \n",
      " 0   tenure          7032 non-null   int64  \n",
      " 1   SeniorCitizen   7032 non-null   int64  \n",
      " 2   MonthlyCharges  7032 non-null   float64\n",
      " 3   TotalCharges    7032 non-null   float64\n",
      "dtypes: float64(2), int64(2)\n",
      "memory usage: 274.7 KB\n"
     ]
    }
   ],
   "source": [
    "X.info()"
   ]
  },
  {
   "cell_type": "markdown",
   "id": "8f284170",
   "metadata": {},
   "source": [
    "### Logistic Regression"
   ]
  },
  {
   "cell_type": "code",
   "execution_count": 12,
   "id": "05ba708b",
   "metadata": {},
   "outputs": [
    {
     "name": "stderr",
     "output_type": "stream",
     "text": [
      "C:\\Users\\isikh\\anaconda3\\envs\\DA_Env\\lib\\site-packages\\sklearn\\utils\\validation.py:993: DataConversionWarning: A column-vector y was passed when a 1d array was expected. Please change the shape of y to (n_samples, ), for example using ravel().\n",
      "  y = column_or_1d(y, warn=True)\n"
     ]
    },
    {
     "data": {
      "text/html": [
       "<div>\n",
       "<style scoped>\n",
       "    .dataframe tbody tr th:only-of-type {\n",
       "        vertical-align: middle;\n",
       "    }\n",
       "\n",
       "    .dataframe tbody tr th {\n",
       "        vertical-align: top;\n",
       "    }\n",
       "\n",
       "    .dataframe thead th {\n",
       "        text-align: right;\n",
       "    }\n",
       "</style>\n",
       "<table border=\"1\" class=\"dataframe\">\n",
       "  <thead>\n",
       "    <tr style=\"text-align: right;\">\n",
       "      <th></th>\n",
       "      <th>Error_metric</th>\n",
       "      <th>Train</th>\n",
       "      <th>Test</th>\n",
       "    </tr>\n",
       "  </thead>\n",
       "  <tbody>\n",
       "    <tr>\n",
       "      <th>0</th>\n",
       "      <td>Accuracy</td>\n",
       "      <td>0.794311</td>\n",
       "      <td>0.781805</td>\n",
       "    </tr>\n",
       "    <tr>\n",
       "      <th>1</th>\n",
       "      <td>Precision</td>\n",
       "      <td>0.658266</td>\n",
       "      <td>0.675676</td>\n",
       "    </tr>\n",
       "    <tr>\n",
       "      <th>2</th>\n",
       "      <td>Recall</td>\n",
       "      <td>0.443916</td>\n",
       "      <td>0.439698</td>\n",
       "    </tr>\n",
       "  </tbody>\n",
       "</table>\n",
       "</div>"
      ],
      "text/plain": [
       "  Error_metric     Train      Test\n",
       "0     Accuracy  0.794311  0.781805\n",
       "1    Precision  0.658266  0.675676\n",
       "2       Recall  0.443916  0.439698"
      ]
     },
     "metadata": {},
     "output_type": "display_data"
    },
    {
     "name": "stdout",
     "output_type": "stream",
     "text": [
      "Confusion matrix for the train set\n",
      "[[3815  339]\n",
      " [ 818  653]]\n"
     ]
    },
    {
     "name": "stderr",
     "output_type": "stream",
     "text": [
      "C:\\Users\\isikh\\anaconda3\\envs\\DA_Env\\lib\\site-packages\\sklearn\\utils\\deprecation.py:87: FutureWarning: Function plot_confusion_matrix is deprecated; Function `plot_confusion_matrix` is deprecated in 1.0 and will be removed in 1.2. Use one of the class methods: ConfusionMatrixDisplay.from_predictions or ConfusionMatrixDisplay.from_estimator.\n",
      "  warnings.warn(msg, category=FutureWarning)\n"
     ]
    },
    {
     "data": {
      "image/png": "[encoded data removed]",
      "text/plain": [
       "<Figure size 432x288 with 2 Axes>"
      ]
     },
     "metadata": {
      "needs_background": "light"
     },
     "output_type": "display_data"
    },
    {
     "name": "stdout",
     "output_type": "stream",
     "text": [
      "\n",
      "\n",
      "Confusion matrix for the test set\n",
      "[[925  84]\n",
      " [223 175]]\n"
     ]
    },
    {
     "name": "stderr",
     "output_type": "stream",
     "text": [
      "C:\\Users\\isikh\\anaconda3\\envs\\DA_Env\\lib\\site-packages\\sklearn\\utils\\deprecation.py:87: FutureWarning: Function plot_confusion_matrix is deprecated; Function `plot_confusion_matrix` is deprecated in 1.0 and will be removed in 1.2. Use one of the class methods: ConfusionMatrixDisplay.from_predictions or ConfusionMatrixDisplay.from_estimator.\n",
      "  warnings.warn(msg, category=FutureWarning)\n"
     ]
    },
    {
     "data": {
      "image/png": "[encoded data removed]",
      "text/plain": [
       "<Figure size 432x288 with 2 Axes>"
      ]
     },
     "metadata": {
      "needs_background": "light"
     },
     "output_type": "display_data"
    }
   ],
   "source": [
    "log_model = LogisticRegression() \n",
    "\n",
    "## Data splitting\n",
    "X_train, X_test, y_train, y_test = train_test_split(X, y, test_size=0.20, random_state=11)\n",
    "\n",
    "trans = PowerTransformer()\n",
    "\n",
    "trans.fit(X_train)\n",
    "\n",
    "X_train_mod = trans.transform(X_train)\n",
    "X_test_mod  = trans.transform(X_test)\n",
    "\n",
    "log_model.fit(X_train_mod, y_train)\n",
    "\n",
    "y_pred_train_log = log_model.predict(X_train_mod)\n",
    "y_pred_test_log = log_model.predict(X_test_mod)\n",
    "\n",
    "performance_log = pd.DataFrame({'Error_metric': ['Accuracy','Precision','Recall'],\n",
    "                               'Train': [accuracy_score(y_train, y_pred_train_log),\n",
    "                                         precision_score(y_train, y_pred_train_log, pos_label ='Yes'),\n",
    "                                         recall_score(y_train, y_pred_train_log, pos_label ='Yes')],\n",
    "                               'Test': [accuracy_score(y_test, y_pred_test_log),\n",
    "                                        precision_score(y_test, y_pred_test_log, pos_label ='Yes'),\n",
    "                                        recall_score(y_test, y_pred_test_log, pos_label ='Yes')]})\n",
    "\n",
    "display(performance_log)\n",
    "\n",
    "print(\"Confusion matrix for the train set\")\n",
    "print(confusion_matrix(y_train,y_pred_train_log))\n",
    "plot_confusion_matrix(log_model,X_train_mod,y_train, values_format = 'd')\n",
    "plt.show()\n",
    "\n",
    "print()\n",
    "print()\n",
    "\n",
    "print(\"Confusion matrix for the test set\")\n",
    "print(confusion_matrix(y_test, y_pred_test_log))\n",
    "plot_confusion_matrix(log_model,X_test_mod,y_test, values_format = 'd')\n",
    "plt.show()"
   ]
  },
  {
   "cell_type": "markdown",
   "id": "be61357a",
   "metadata": {},
   "source": [
    "### KNN"
   ]
  },
  {
   "cell_type": "code",
   "execution_count": 13,
   "id": "e3d72da3",
   "metadata": {},
   "outputs": [
    {
     "name": "stderr",
     "output_type": "stream",
     "text": [
      "C:\\Users\\isikh\\anaconda3\\envs\\DA_Env\\lib\\site-packages\\sklearn\\neighbors\\_classification.py:198: DataConversionWarning: A column-vector y was passed when a 1d array was expected. Please change the shape of y to (n_samples,), for example using ravel().\n",
      "  return self._fit(X, y)\n"
     ]
    }
   ],
   "source": [
    "from sklearn.neighbors import KNeighborsClassifier\n",
    "model = KNeighborsClassifier(n_neighbors=2,weights='uniform')\n",
    "model.fit(X_train, y_train)\n",
    "y_pred_test=model.predict(X_test)  #burada_test eksikti\n",
    "y_pred_train=model.predict(X_train)\n",
    "#model.predict_proba(inputdata)"
   ]
  },
  {
   "cell_type": "markdown",
   "id": "1cae1e77",
   "metadata": {},
   "source": [
    "classification_plot_confusion_matrix\n",
    "Classification Model confusion matrix for training and test set"
   ]
  },
  {
   "cell_type": "code",
   "execution_count": 14,
   "id": "19da21bc",
   "metadata": {},
   "outputs": [
    {
     "name": "stderr",
     "output_type": "stream",
     "text": [
      "C:\\Users\\isikh\\anaconda3\\envs\\DA_Env\\lib\\site-packages\\sklearn\\utils\\deprecation.py:87: FutureWarning: Function plot_confusion_matrix is deprecated; Function `plot_confusion_matrix` is deprecated in 1.0 and will be removed in 1.2. Use one of the class methods: ConfusionMatrixDisplay.from_predictions or ConfusionMatrixDisplay.from_estimator.\n",
      "  warnings.warn(msg, category=FutureWarning)\n",
      "C:\\Users\\isikh\\anaconda3\\envs\\DA_Env\\lib\\site-packages\\sklearn\\utils\\deprecation.py:87: FutureWarning: Function plot_confusion_matrix is deprecated; Function `plot_confusion_matrix` is deprecated in 1.0 and will be removed in 1.2. Use one of the class methods: ConfusionMatrixDisplay.from_predictions or ConfusionMatrixDisplay.from_estimator.\n",
      "  warnings.warn(msg, category=FutureWarning)\n"
     ]
    },
    {
     "data": {
      "image/png": "[encoded data removed]",
      "text/plain": [
       "<Figure size 1008x576 with 4 Axes>"
      ]
     },
     "metadata": {
      "needs_background": "light"
     },
     "output_type": "display_data"
    }
   ],
   "source": [
    "from sklearn.metrics import plot_confusion_matrix\n",
    "\n",
    "fig, ax = plt.subplots(1,2, figsize=(14,8))\n",
    "\n",
    "plot_confusion_matrix(model, X_train, y_train,ax=ax[0], values_format = 'd')\n",
    "ax[0].title.set_text(\"Train Set\")\n",
    "\n",
    "plot_confusion_matrix(model, X_test, y_test,ax=ax[1],values_format = 'd')\n",
    "ax[1].title.set_text(\"Test Set\")"
   ]
  },
  {
   "cell_type": "code",
   "execution_count": 15,
   "id": "e1718869",
   "metadata": {},
   "outputs": [],
   "source": [
    "# from sklearn.metrics import accuracy_score, precision_score, recall_score, confusion_matrix\n",
    "from sklearn.metrics import plot_confusion_matrix\n",
    "\n",
    "def evaluate_classification_model(y_train, y_pred_train, y_test, y_pred_test):\n",
    "    \n",
    "    performance_df = pd.DataFrame({'Error_metric': ['Accuracy','Precision','Recall'],\n",
    "                               'Train': [accuracy_score(y_train, y_pred_train),\n",
    "                                         precision_score(y_train, y_pred_train, pos_label ='Yes'),\n",
    "                                         recall_score(y_train, y_pred_train, pos_label ='Yes')],\n",
    "                               'Test': [accuracy_score(y_test, y_pred_test),\n",
    "                                        precision_score(y_test, y_pred_test, pos_label ='Yes'),\n",
    "                                        recall_score(y_test, y_pred_test, pos_label ='Yes')]})\n",
    "    \n",
    "    #pd.options.display.float_format = '{:.2f}'.format\n",
    "\n",
    "    #df_train = pd.DataFrame({'Real': y_train, 'Predicted': y_pred_train})\n",
    "    #df_test  = pd.DataFrame({'Real': y_test,  'Predicted': y_pred_test})\n",
    "\n",
    "    return performance_df   #, df_train, df_test\n",
    "\n",
    "\n",
    "\n",
    "## calling the function\n",
    "#error_metrics_df,y_train_vs_predicted, \n",
    "    \n",
    "#y_test_vs_predicted=evaluate_classification_model(y_train, y_pred_train, y_test, y_pred_test)\n",
    "#error_metrics_df"
   ]
  },
  {
   "cell_type": "code",
   "execution_count": 16,
   "id": "724cb919",
   "metadata": {},
   "outputs": [
    {
     "data": {
      "text/html": [
       "<div>\n",
       "<style scoped>\n",
       "    .dataframe tbody tr th:only-of-type {\n",
       "        vertical-align: middle;\n",
       "    }\n",
       "\n",
       "    .dataframe tbody tr th {\n",
       "        vertical-align: top;\n",
       "    }\n",
       "\n",
       "    .dataframe thead th {\n",
       "        text-align: right;\n",
       "    }\n",
       "</style>\n",
       "<table border=\"1\" class=\"dataframe\">\n",
       "  <thead>\n",
       "    <tr style=\"text-align: right;\">\n",
       "      <th></th>\n",
       "      <th>Error_metric</th>\n",
       "      <th>Train</th>\n",
       "      <th>Test</th>\n",
       "    </tr>\n",
       "  </thead>\n",
       "  <tbody>\n",
       "    <tr>\n",
       "      <th>0</th>\n",
       "      <td>Accuracy</td>\n",
       "      <td>0.867733</td>\n",
       "      <td>0.720682</td>\n",
       "    </tr>\n",
       "    <tr>\n",
       "      <th>1</th>\n",
       "      <td>Precision</td>\n",
       "      <td>0.994558</td>\n",
       "      <td>0.514124</td>\n",
       "    </tr>\n",
       "    <tr>\n",
       "      <th>2</th>\n",
       "      <td>Recall</td>\n",
       "      <td>0.496941</td>\n",
       "      <td>0.228643</td>\n",
       "    </tr>\n",
       "  </tbody>\n",
       "</table>\n",
       "</div>"
      ],
      "text/plain": [
       "  Error_metric     Train      Test\n",
       "0     Accuracy  0.867733  0.720682\n",
       "1    Precision  0.994558  0.514124\n",
       "2       Recall  0.496941  0.228643"
      ]
     },
     "execution_count": 16,
     "metadata": {},
     "output_type": "execute_result"
    }
   ],
   "source": [
    "evaluate_classification_model(y_train, y_pred_train, y_test, y_pred)"
   ]
  },
  {
   "cell_type": "markdown",
   "id": "13b92df9",
   "metadata": {},
   "source": [
    "### Decision Tree"
   ]
  },
  {
   "cell_type": "code",
   "execution_count": 17,
   "id": "00d0cab9",
   "metadata": {},
   "outputs": [],
   "source": [
    "from sklearn.tree import DecisionTreeRegressor\n",
    "from sklearn.tree import DecisionTreeClassifier"
   ]
  },
  {
   "cell_type": "code",
   "execution_count": 18,
   "id": "364bcd90",
   "metadata": {},
   "outputs": [
    {
     "data": {
      "text/html": [
       "<div>\n",
       "<style scoped>\n",
       "    .dataframe tbody tr th:only-of-type {\n",
       "        vertical-align: middle;\n",
       "    }\n",
       "\n",
       "    .dataframe tbody tr th {\n",
       "        vertical-align: top;\n",
       "    }\n",
       "\n",
       "    .dataframe thead th {\n",
       "        text-align: right;\n",
       "    }\n",
       "</style>\n",
       "<table border=\"1\" class=\"dataframe\">\n",
       "  <thead>\n",
       "    <tr style=\"text-align: right;\">\n",
       "      <th></th>\n",
       "      <th>tenure</th>\n",
       "      <th>SeniorCitizen</th>\n",
       "      <th>MonthlyCharges</th>\n",
       "      <th>TotalCharges</th>\n",
       "    </tr>\n",
       "  </thead>\n",
       "  <tbody>\n",
       "    <tr>\n",
       "      <th>0</th>\n",
       "      <td>1</td>\n",
       "      <td>0</td>\n",
       "      <td>29.85</td>\n",
       "      <td>29.85</td>\n",
       "    </tr>\n",
       "    <tr>\n",
       "      <th>1</th>\n",
       "      <td>34</td>\n",
       "      <td>0</td>\n",
       "      <td>56.95</td>\n",
       "      <td>1889.50</td>\n",
       "    </tr>\n",
       "    <tr>\n",
       "      <th>2</th>\n",
       "      <td>2</td>\n",
       "      <td>0</td>\n",
       "      <td>53.85</td>\n",
       "      <td>108.15</td>\n",
       "    </tr>\n",
       "    <tr>\n",
       "      <th>3</th>\n",
       "      <td>45</td>\n",
       "      <td>0</td>\n",
       "      <td>42.30</td>\n",
       "      <td>1840.75</td>\n",
       "    </tr>\n",
       "    <tr>\n",
       "      <th>4</th>\n",
       "      <td>2</td>\n",
       "      <td>0</td>\n",
       "      <td>70.70</td>\n",
       "      <td>151.65</td>\n",
       "    </tr>\n",
       "    <tr>\n",
       "      <th>...</th>\n",
       "      <td>...</td>\n",
       "      <td>...</td>\n",
       "      <td>...</td>\n",
       "      <td>...</td>\n",
       "    </tr>\n",
       "    <tr>\n",
       "      <th>7038</th>\n",
       "      <td>24</td>\n",
       "      <td>0</td>\n",
       "      <td>84.80</td>\n",
       "      <td>1990.50</td>\n",
       "    </tr>\n",
       "    <tr>\n",
       "      <th>7039</th>\n",
       "      <td>72</td>\n",
       "      <td>0</td>\n",
       "      <td>103.20</td>\n",
       "      <td>7362.90</td>\n",
       "    </tr>\n",
       "    <tr>\n",
       "      <th>7040</th>\n",
       "      <td>11</td>\n",
       "      <td>0</td>\n",
       "      <td>29.60</td>\n",
       "      <td>346.45</td>\n",
       "    </tr>\n",
       "    <tr>\n",
       "      <th>7041</th>\n",
       "      <td>4</td>\n",
       "      <td>1</td>\n",
       "      <td>74.40</td>\n",
       "      <td>306.60</td>\n",
       "    </tr>\n",
       "    <tr>\n",
       "      <th>7042</th>\n",
       "      <td>66</td>\n",
       "      <td>0</td>\n",
       "      <td>105.65</td>\n",
       "      <td>6844.50</td>\n",
       "    </tr>\n",
       "  </tbody>\n",
       "</table>\n",
       "<p>7032 rows × 4 columns</p>\n",
       "</div>"
      ],
      "text/plain": [
       "      tenure  SeniorCitizen  MonthlyCharges  TotalCharges\n",
       "0          1              0           29.85         29.85\n",
       "1         34              0           56.95       1889.50\n",
       "2          2              0           53.85        108.15\n",
       "3         45              0           42.30       1840.75\n",
       "4          2              0           70.70        151.65\n",
       "...      ...            ...             ...           ...\n",
       "7038      24              0           84.80       1990.50\n",
       "7039      72              0          103.20       7362.90\n",
       "7040      11              0           29.60        346.45\n",
       "7041       4              1           74.40        306.60\n",
       "7042      66              0          105.65       6844.50\n",
       "\n",
       "[7032 rows x 4 columns]"
      ]
     },
     "execution_count": 18,
     "metadata": {},
     "output_type": "execute_result"
    }
   ],
   "source": [
    "X1=churnData[['tenure', 'SeniorCitizen', 'MonthlyCharges', 'TotalCharges']]\n",
    "#X=X._get_numeric_data()\n",
    "\n",
    "y1 =churnData[['Churn']]\n",
    "X1"
   ]
  },
  {
   "cell_type": "code",
   "execution_count": 19,
   "id": "b0e6f6d1",
   "metadata": {},
   "outputs": [],
   "source": [
    "X1_train, X1_test, y1_train, y1_test = train_test_split(X1, y1, test_size=0.30, random_state=11)"
   ]
  },
  {
   "cell_type": "code",
   "execution_count": 20,
   "id": "c0e0d6cc",
   "metadata": {},
   "outputs": [],
   "source": [
    "dt = DecisionTreeClassifier(max_features=None, random_state=None, max_depth=4, min_samples_split=2, min_samples_leaf=1)"
   ]
  },
  {
   "cell_type": "code",
   "execution_count": 21,
   "id": "5b97884d",
   "metadata": {},
   "outputs": [
    {
     "data": {
      "text/html": [
       "<div>\n",
       "<style scoped>\n",
       "    .dataframe tbody tr th:only-of-type {\n",
       "        vertical-align: middle;\n",
       "    }\n",
       "\n",
       "    .dataframe tbody tr th {\n",
       "        vertical-align: top;\n",
       "    }\n",
       "\n",
       "    .dataframe thead th {\n",
       "        text-align: right;\n",
       "    }\n",
       "</style>\n",
       "<table border=\"1\" class=\"dataframe\">\n",
       "  <thead>\n",
       "    <tr style=\"text-align: right;\">\n",
       "      <th></th>\n",
       "      <th>Error_metric</th>\n",
       "      <th>Train</th>\n",
       "      <th>Test</th>\n",
       "    </tr>\n",
       "  </thead>\n",
       "  <tbody>\n",
       "    <tr>\n",
       "      <th>0</th>\n",
       "      <td>Accuracy</td>\n",
       "      <td>0.791548</td>\n",
       "      <td>0.769194</td>\n",
       "    </tr>\n",
       "    <tr>\n",
       "      <th>1</th>\n",
       "      <td>Precision</td>\n",
       "      <td>0.664634</td>\n",
       "      <td>0.618785</td>\n",
       "    </tr>\n",
       "    <tr>\n",
       "      <th>2</th>\n",
       "      <td>Recall</td>\n",
       "      <td>0.420525</td>\n",
       "      <td>0.390925</td>\n",
       "    </tr>\n",
       "  </tbody>\n",
       "</table>\n",
       "</div>"
      ],
      "text/plain": [
       "  Error_metric     Train      Test\n",
       "0     Accuracy  0.791548  0.769194\n",
       "1    Precision  0.664634  0.618785\n",
       "2       Recall  0.420525  0.390925"
      ]
     },
     "metadata": {},
     "output_type": "display_data"
    },
    {
     "name": "stdout",
     "output_type": "stream",
     "text": [
      "Confusion matrix for the train set\n",
      "[[3351  751]\n",
      " [ 275  545]]\n"
     ]
    },
    {
     "name": "stderr",
     "output_type": "stream",
     "text": [
      "C:\\Users\\isikh\\anaconda3\\envs\\DA_Env\\lib\\site-packages\\sklearn\\utils\\deprecation.py:87: FutureWarning: Function plot_confusion_matrix is deprecated; Function `plot_confusion_matrix` is deprecated in 1.0 and will be removed in 1.2. Use one of the class methods: ConfusionMatrixDisplay.from_predictions or ConfusionMatrixDisplay.from_estimator.\n",
      "  warnings.warn(msg, category=FutureWarning)\n"
     ]
    },
    {
     "data": {
      "image/png": "[encoded data removed]",
      "text/plain": [
       "<Figure size 432x288 with 2 Axes>"
      ]
     },
     "metadata": {
      "needs_background": "light"
     },
     "output_type": "display_data"
    },
    {
     "name": "stdout",
     "output_type": "stream",
     "text": [
      "\n",
      "\n",
      "Confusion matrix for the test set\n",
      "[[1399  349]\n",
      " [ 138  224]]\n"
     ]
    },
    {
     "name": "stderr",
     "output_type": "stream",
     "text": [
      "C:\\Users\\isikh\\anaconda3\\envs\\DA_Env\\lib\\site-packages\\sklearn\\utils\\deprecation.py:87: FutureWarning: Function plot_confusion_matrix is deprecated; Function `plot_confusion_matrix` is deprecated in 1.0 and will be removed in 1.2. Use one of the class methods: ConfusionMatrixDisplay.from_predictions or ConfusionMatrixDisplay.from_estimator.\n",
      "  warnings.warn(msg, category=FutureWarning)\n"
     ]
    },
    {
     "data": {
      "image/png": "[encoded data removed]",
      "text/plain": [
       "<Figure size 432x288 with 2 Axes>"
      ]
     },
     "metadata": {
      "needs_background": "light"
     },
     "output_type": "display_data"
    }
   ],
   "source": [
    "dt.fit(X1_train, y1_train)\n",
    "\n",
    "y1_pred_train_dt = dt.predict(X1_train)\n",
    "y1_pred_test_dt = dt.predict(X1_test)\n",
    "\n",
    "\n",
    "performance_df = pd.DataFrame({'Error_metric': ['Accuracy','Precision','Recall'],\n",
    "                               'Train': [accuracy_score(y1_train, y1_pred_train_dt),\n",
    "                                         precision_score(y1_train, y1_pred_train_dt, pos_label = 'Yes'),\n",
    "                                         recall_score(y1_train, y1_pred_train_dt, pos_label = 'Yes')],\n",
    "                               'Test': [accuracy_score(y1_test, y1_pred_test_dt),\n",
    "                                        precision_score(y1_test, y1_pred_test_dt, pos_label = 'Yes'),\n",
    "                                        recall_score(y1_test, y1_pred_test_dt, pos_label = 'Yes')]})\n",
    "\n",
    "display(performance_df)\n",
    "\n",
    "print(\"Confusion matrix for the train set\")\n",
    "print(confusion_matrix(y1_train,y1_pred_train_dt).T)\n",
    "plot_confusion_matrix(dt,X1_train,y1_train, values_format = 'd')\n",
    "plt.show()\n",
    "\n",
    "print()\n",
    "print()\n",
    "\n",
    "print(\"Confusion matrix for the test set\")\n",
    "print(confusion_matrix(y1_test,y1_pred_test_dt).T)\n",
    "plot_confusion_matrix(dt,X1_test,y1_test, values_format = 'd')\n",
    "plt.show()"
   ]
  },
  {
   "cell_type": "markdown",
   "id": "7506146f",
   "metadata": {},
   "source": [
    "#### Plotting Feature importances"
   ]
  },
  {
   "cell_type": "code",
   "execution_count": 22,
   "id": "49d49a97",
   "metadata": {},
   "outputs": [
    {
     "data": {
      "image/png": "[encoded data removed]",
      "text/plain": [
       "<Figure size 576x360 with 1 Axes>"
      ]
     },
     "metadata": {
      "needs_background": "light"
     },
     "output_type": "display_data"
    }
   ],
   "source": [
    "plt.figure(figsize=(8,5))\n",
    "plt.barh(X.columns, dt.feature_importances_)\n",
    "plt.show()"
   ]
  },
  {
   "cell_type": "markdown",
   "id": "4cbc2ecf",
   "metadata": {},
   "source": [
    "#### Plotting the decision tree"
   ]
  },
  {
   "cell_type": "code",
   "execution_count": 23,
   "id": "87056506",
   "metadata": {},
   "outputs": [
    {
     "data": {
      "image/png": "[encoded data removed]",
      "text/plain": [
       "<Figure size 2016x1224 with 1 Axes>"
      ]
     },
     "metadata": {
      "needs_background": "light"
     },
     "output_type": "display_data"
    }
   ],
   "source": [
    "from sklearn.tree import plot_tree\n",
    "\n",
    "fig, axes = plt.subplots(nrows = 1,ncols = 1,figsize = (28,17))\n",
    "\n",
    "plot_tree(dt,filled = True, rounded=True,feature_names=X1.columns)\n",
    "plt.show() "
   ]
  },
  {
   "cell_type": "markdown",
   "id": "f8457c45",
   "metadata": {},
   "source": [
    "### Day 4"
   ]
  },
  {
   "cell_type": "markdown",
   "id": "5702bf59",
   "metadata": {},
   "source": [
    "####  K-fold cross validation"
   ]
  },
  {
   "cell_type": "markdown",
   "id": "6e896dfa",
   "metadata": {},
   "source": [
    " first we need to balance the data! but first check the cross validation"
   ]
  },
  {
   "cell_type": "code",
   "execution_count": 24,
   "id": "d2a29de5",
   "metadata": {},
   "outputs": [],
   "source": [
    "from sklearn.model_selection import cross_val_score\n",
    "from sklearn.model_selection import cross_val_predict\n",
    "\n",
    "from sklearn.model_selection import train_test_split\n",
    "\n",
    "from sklearn.linear_model import LinearRegression\n",
    "from sklearn.neighbors import KNeighborsRegressor\n",
    "from sklearn.tree import DecisionTreeClassifier\n",
    "from sklearn.tree import DecisionTreeRegressor\n",
    "import warnings\n",
    "warnings.filterwarnings('ignore')"
   ]
  },
  {
   "cell_type": "code",
   "execution_count": 25,
   "id": "3a8c4f5a",
   "metadata": {},
   "outputs": [
    {
     "data": {
      "text/html": [
       "<div>\n",
       "<style scoped>\n",
       "    .dataframe tbody tr th:only-of-type {\n",
       "        vertical-align: middle;\n",
       "    }\n",
       "\n",
       "    .dataframe tbody tr th {\n",
       "        vertical-align: top;\n",
       "    }\n",
       "\n",
       "    .dataframe thead th {\n",
       "        text-align: right;\n",
       "    }\n",
       "</style>\n",
       "<table border=\"1\" class=\"dataframe\">\n",
       "  <thead>\n",
       "    <tr style=\"text-align: right;\">\n",
       "      <th></th>\n",
       "      <th>tenure</th>\n",
       "      <th>SeniorCitizen</th>\n",
       "      <th>MonthlyCharges</th>\n",
       "      <th>TotalCharges</th>\n",
       "    </tr>\n",
       "  </thead>\n",
       "  <tbody>\n",
       "    <tr>\n",
       "      <th>0</th>\n",
       "      <td>1</td>\n",
       "      <td>0</td>\n",
       "      <td>29.85</td>\n",
       "      <td>29.85</td>\n",
       "    </tr>\n",
       "    <tr>\n",
       "      <th>1</th>\n",
       "      <td>34</td>\n",
       "      <td>0</td>\n",
       "      <td>56.95</td>\n",
       "      <td>1889.50</td>\n",
       "    </tr>\n",
       "    <tr>\n",
       "      <th>2</th>\n",
       "      <td>2</td>\n",
       "      <td>0</td>\n",
       "      <td>53.85</td>\n",
       "      <td>108.15</td>\n",
       "    </tr>\n",
       "    <tr>\n",
       "      <th>3</th>\n",
       "      <td>45</td>\n",
       "      <td>0</td>\n",
       "      <td>42.30</td>\n",
       "      <td>1840.75</td>\n",
       "    </tr>\n",
       "    <tr>\n",
       "      <th>4</th>\n",
       "      <td>2</td>\n",
       "      <td>0</td>\n",
       "      <td>70.70</td>\n",
       "      <td>151.65</td>\n",
       "    </tr>\n",
       "    <tr>\n",
       "      <th>...</th>\n",
       "      <td>...</td>\n",
       "      <td>...</td>\n",
       "      <td>...</td>\n",
       "      <td>...</td>\n",
       "    </tr>\n",
       "    <tr>\n",
       "      <th>7038</th>\n",
       "      <td>24</td>\n",
       "      <td>0</td>\n",
       "      <td>84.80</td>\n",
       "      <td>1990.50</td>\n",
       "    </tr>\n",
       "    <tr>\n",
       "      <th>7039</th>\n",
       "      <td>72</td>\n",
       "      <td>0</td>\n",
       "      <td>103.20</td>\n",
       "      <td>7362.90</td>\n",
       "    </tr>\n",
       "    <tr>\n",
       "      <th>7040</th>\n",
       "      <td>11</td>\n",
       "      <td>0</td>\n",
       "      <td>29.60</td>\n",
       "      <td>346.45</td>\n",
       "    </tr>\n",
       "    <tr>\n",
       "      <th>7041</th>\n",
       "      <td>4</td>\n",
       "      <td>1</td>\n",
       "      <td>74.40</td>\n",
       "      <td>306.60</td>\n",
       "    </tr>\n",
       "    <tr>\n",
       "      <th>7042</th>\n",
       "      <td>66</td>\n",
       "      <td>0</td>\n",
       "      <td>105.65</td>\n",
       "      <td>6844.50</td>\n",
       "    </tr>\n",
       "  </tbody>\n",
       "</table>\n",
       "<p>7032 rows × 4 columns</p>\n",
       "</div>"
      ],
      "text/plain": [
       "      tenure  SeniorCitizen  MonthlyCharges  TotalCharges\n",
       "0          1              0           29.85         29.85\n",
       "1         34              0           56.95       1889.50\n",
       "2          2              0           53.85        108.15\n",
       "3         45              0           42.30       1840.75\n",
       "4          2              0           70.70        151.65\n",
       "...      ...            ...             ...           ...\n",
       "7038      24              0           84.80       1990.50\n",
       "7039      72              0          103.20       7362.90\n",
       "7040      11              0           29.60        346.45\n",
       "7041       4              1           74.40        306.60\n",
       "7042      66              0          105.65       6844.50\n",
       "\n",
       "[7032 rows x 4 columns]"
      ]
     },
     "execution_count": 25,
     "metadata": {},
     "output_type": "execute_result"
    }
   ],
   "source": [
    "X_cv=churnData[['tenure', 'SeniorCitizen', 'MonthlyCharges', 'TotalCharges']]\n",
    "#X=X._get_numeric_data()\n",
    "\n",
    "y_cv =churnData[['Churn']]\n",
    "X_cv"
   ]
  },
  {
   "cell_type": "code",
   "execution_count": 26,
   "id": "3307cd9a",
   "metadata": {},
   "outputs": [
    {
     "data": {
      "text/plain": [
       "0.7178393745557925"
      ]
     },
     "execution_count": 26,
     "metadata": {},
     "output_type": "execute_result"
    }
   ],
   "source": [
    "X_cv_train, X_cv_test, y_cv_train, y_cv_test = train_test_split(X_cv, y_cv, test_size=0.20)\n",
    "model= DecisionTreeClassifier()\n",
    "model.fit(X_cv_train, y_cv_train)\n",
    "model.score(X_cv_test, y_cv_test)"
   ]
  },
  {
   "cell_type": "code",
   "execution_count": 27,
   "id": "4969a7ef",
   "metadata": {},
   "outputs": [
    {
     "data": {
      "text/plain": [
       "(5625, 4)"
      ]
     },
     "execution_count": 27,
     "metadata": {},
     "output_type": "execute_result"
    }
   ],
   "source": [
    "X_cv_train.shape"
   ]
  },
  {
   "cell_type": "code",
   "execution_count": 28,
   "id": "abfaa4f7",
   "metadata": {},
   "outputs": [
    {
     "data": {
      "text/plain": [
       "array([0.73507463, 0.70522388, 0.71393035, 0.70522388, 0.72353674,\n",
       "       0.72976339, 0.71980075])"
      ]
     },
     "execution_count": 28,
     "metadata": {},
     "output_type": "execute_result"
    }
   ],
   "source": [
    "scores=cross_val_score(model, X_cv_train, y_cv_train, cv=7)\n",
    "scores"
   ]
  },
  {
   "cell_type": "code",
   "execution_count": 29,
   "id": "90331d69",
   "metadata": {},
   "outputs": [
    {
     "name": "stdout",
     "output_type": "stream",
     "text": [
      "0.72 accuracy with a standard deviation of 0.01\n"
     ]
    }
   ],
   "source": [
    "print(\"%0.2f accuracy with a standard deviation of %0.2f\" % (scores.mean(), scores.std()))"
   ]
  },
  {
   "cell_type": "code",
   "execution_count": 30,
   "id": "ce274780",
   "metadata": {},
   "outputs": [
    {
     "data": {
      "text/plain": [
       "array(['Yes', 'Yes', 'No', ..., 'No', 'No', 'No'], dtype=object)"
      ]
     },
     "execution_count": 30,
     "metadata": {},
     "output_type": "execute_result"
    }
   ],
   "source": [
    "y_cv_pred = cross_val_predict(model, X_cv_test, y_cv_test, cv=5)\n",
    "y_cv_pred"
   ]
  },
  {
   "cell_type": "markdown",
   "id": "2d74036d",
   "metadata": {},
   "source": [
    "### Balancing the Data"
   ]
  },
  {
   "cell_type": "markdown",
   "id": "badaed28",
   "metadata": {},
   "source": [
    "#### Method 1: Downsampling"
   ]
  },
  {
   "cell_type": "markdown",
   "id": "3a0ab672",
   "metadata": {},
   "source": [
    " Here I create a whole dataframe with all the columns. after that I say if the churn is equal to this, create the category. \n",
    "The categories are 1 or 0, but in this case yes or no"
   ]
  },
  {
   "cell_type": "code",
   "execution_count": 31,
   "id": "cc50f954",
   "metadata": {},
   "outputs": [
    {
     "name": "stdout",
     "output_type": "stream",
     "text": [
      "(5163, 5)\n",
      "(1869, 5)\n"
     ]
    }
   ],
   "source": [
    "categories=churnData[['tenure', 'SeniorCitizen', 'MonthlyCharges', 'TotalCharges','Churn']]\n",
    "#X=X._get_numeric_data()\n",
    "\n",
    "category_1 =categories[categories['Churn'] == 'Yes']\n",
    "category_0 =categories[categories['Churn'] == 'No']\n",
    "print(category_0.shape)\n",
    "print(category_1.shape)"
   ]
  },
  {
   "cell_type": "markdown",
   "id": "cf8bb96b",
   "metadata": {},
   "source": [
    "category_1 is the majority class because it has 5163 So take a sample with the same size of category_0 from category_1 to make them equal"
   ]
  },
  {
   "cell_type": "code",
   "execution_count": 32,
   "id": "59bfe4f3",
   "metadata": {},
   "outputs": [
    {
     "name": "stdout",
     "output_type": "stream",
     "text": [
      "(1869, 5)\n",
      "(1869, 5)\n"
     ]
    }
   ],
   "source": [
    "category_0_down = category_0.sample(len(category_1,))\n",
    "print(category_0_down.shape)\n",
    "print(category_1.shape)"
   ]
  },
  {
   "cell_type": "markdown",
   "id": "751fd900",
   "metadata": {},
   "source": [
    " concatinating again with shuffle"
   ]
  },
  {
   "cell_type": "code",
   "execution_count": 33,
   "id": "0c9d84d1",
   "metadata": {},
   "outputs": [
    {
     "data": {
      "text/plain": [
       "No     1869\n",
       "Yes    1869\n",
       "Name: Churn, dtype: int64"
      ]
     },
     "execution_count": 33,
     "metadata": {},
     "output_type": "execute_result"
    }
   ],
   "source": [
    "data = pd.concat([category_0_down, category_1], axis=0)\n",
    "#shuffling the data\n",
    "data = data.sample(frac=1)\n",
    "data['Churn'].value_counts()"
   ]
  },
  {
   "cell_type": "code",
   "execution_count": 34,
   "id": "5a8b17e5",
   "metadata": {},
   "outputs": [],
   "source": [
    "#### Compare downsampled and original data"
   ]
  },
  {
   "cell_type": "code",
   "execution_count": 35,
   "id": "94a5ca2a",
   "metadata": {},
   "outputs": [
    {
     "name": "stdout",
     "output_type": "stream",
     "text": [
      "{'Classifier Tree': 0.6629159438574357, 'Logistic Regression': 0.7428997433728549, 'KNN Classifier2': 0.6958308841450301, 'Decision_Tree': 0.7319393270347379}\n"
     ]
    }
   ],
   "source": [
    "X_downsampled = data[['tenure','SeniorCitizen', 'MonthlyCharges','TotalCharges']]\n",
    "y_downsampled = data[['Churn']]\n",
    "\n",
    "model1 = DecisionTreeClassifier()\n",
    "model2 = LogisticRegression()\n",
    "model3 = KNeighborsClassifier()\n",
    "model4 = DecisionTreeClassifier(max_features=4, random_state=123, max_depth=6, min_samples_split=5, min_samples_leaf=1)\n",
    "\n",
    "model_pipeline = [model1, model2, model3, model4]\n",
    "model_names = ['Classifier Tree', 'Logistic Regression', 'KNN Classifier2', 'Decision_Tree']\n",
    "scores = {}\n",
    "i=0\n",
    "for model in model_pipeline:\n",
    "    mean_score = np.mean(cross_val_score(model, X_downsampled, y_downsampled, cv=10))\n",
    "    scores[model_names[i]] = mean_score\n",
    "    i = i+1\n",
    "               \n",
    "print(scores)"
   ]
  },
  {
   "cell_type": "markdown",
   "id": "1b7a926c",
   "metadata": {},
   "source": [
    "#### Method 2A: Upsampling Method 1"
   ]
  },
  {
   "cell_type": "code",
   "execution_count": 36,
   "id": "1c1c97d8",
   "metadata": {},
   "outputs": [
    {
     "name": "stdout",
     "output_type": "stream",
     "text": [
      "(1869, 5)\n",
      "(5163, 5)\n"
     ]
    }
   ],
   "source": [
    "upsampling1=churnData[['tenure', 'SeniorCitizen', 'MonthlyCharges', 'TotalCharges','Churn']]\n",
    "#X=X._get_numeric_data()\n",
    "\n",
    "upsampling1_1 =upsampling1[upsampling1['Churn'] == 'Yes']\n",
    "upsampling1_0 =upsampling1[upsampling1['Churn'] == 'No']\n",
    "print(upsampling1_1.shape)\n",
    "print(upsampling1_0.shape)\n"
   ]
  },
  {
   "cell_type": "code",
   "execution_count": 37,
   "id": "c6d45a1d",
   "metadata": {},
   "outputs": [
    {
     "name": "stdout",
     "output_type": "stream",
     "text": [
      "(5163, 5)\n",
      "(5163, 5)\n"
     ]
    }
   ],
   "source": [
    "upsampling1_1 = upsampling1_1.sample(len(upsampling1_0), replace=True)\n",
    "print(upsampling1_0.shape)\n",
    "print(upsampling1_1.shape)"
   ]
  },
  {
   "cell_type": "code",
   "execution_count": 38,
   "id": "c4163280",
   "metadata": {},
   "outputs": [
    {
     "data": {
      "text/plain": [
       "No     1869\n",
       "Yes    1869\n",
       "Name: Churn, dtype: int64"
      ]
     },
     "execution_count": 38,
     "metadata": {},
     "output_type": "execute_result"
    }
   ],
   "source": [
    "data2 = pd.concat([upsampling1_0, upsampling1_1], axis=0)\n",
    "#shuffling the data\n",
    "data2 = data.sample(frac=1)\n",
    "data2['Churn'].value_counts()"
   ]
  },
  {
   "cell_type": "markdown",
   "id": "868197ce",
   "metadata": {},
   "source": [
    "#### Compare upsampled and original data"
   ]
  },
  {
   "cell_type": "code",
   "execution_count": 39,
   "id": "0edd8c20",
   "metadata": {},
   "outputs": [
    {
     "name": "stdout",
     "output_type": "stream",
     "text": [
      "{'Classifier Tree': 0.6650664506602055, 'Logistic Regression': 0.7421133747186419, 'KNN Classifier2': 0.7003849407176957, 'Decision_Tree': 0.7290010179065534}\n"
     ]
    }
   ],
   "source": [
    "X_downsampled = data2[['tenure','SeniorCitizen', 'MonthlyCharges','TotalCharges']]\n",
    "y_downsampled = data2[['Churn']]\n",
    "\n",
    "model1 = DecisionTreeClassifier()\n",
    "model2 = LogisticRegression()\n",
    "model3 = KNeighborsClassifier()\n",
    "model4 = DecisionTreeClassifier(max_features=4, random_state=123, max_depth=6, min_samples_split=5, min_samples_leaf=1)\n",
    "\n",
    "model_pipeline = [model1, model2, model3, model4]\n",
    "model_names = ['Classifier Tree', 'Logistic Regression', 'KNN Classifier2', 'Decision_Tree']\n",
    "scores = {}\n",
    "i=0\n",
    "for model in model_pipeline:\n",
    "    mean_score = np.mean(cross_val_score(model, X_downsampled, y_downsampled, cv=10))\n",
    "    scores[model_names[i]] = mean_score\n",
    "    i = i+1\n",
    "               \n",
    "print(scores)"
   ]
  },
  {
   "cell_type": "markdown",
   "id": "75027a8e",
   "metadata": {},
   "source": [
    "#### Method 2B: Upsampling using SMOTE"
   ]
  },
  {
   "cell_type": "code",
   "execution_count": 40,
   "id": "f3a4751e",
   "metadata": {},
   "outputs": [],
   "source": [
    "from imblearn.over_sampling import SMOTE\n",
    "smote = SMOTE()"
   ]
  },
  {
   "cell_type": "markdown",
   "id": "33a9b825",
   "metadata": {},
   "source": [
    " Just split the data to X and y and the model smot does everything  :)"
   ]
  },
  {
   "cell_type": "code",
   "execution_count": 41,
   "id": "c34c61ee",
   "metadata": {},
   "outputs": [
    {
     "data": {
      "text/plain": [
       "Churn\n",
       "No       5163\n",
       "Yes      1869\n",
       "dtype: int64"
      ]
     },
     "execution_count": 41,
     "metadata": {},
     "output_type": "execute_result"
    }
   ],
   "source": [
    "X_smote=churnData[['tenure', 'SeniorCitizen', 'MonthlyCharges', 'TotalCharges']]\n",
    "\n",
    "y_smote =churnData[['Churn']]\n",
    "y_smote.value_counts()"
   ]
  },
  {
   "cell_type": "code",
   "execution_count": 42,
   "id": "3812d47d",
   "metadata": {},
   "outputs": [
    {
     "data": {
      "text/plain": [
       "Churn\n",
       "No       5163\n",
       "Yes      5163\n",
       "dtype: int64"
      ]
     },
     "execution_count": 42,
     "metadata": {},
     "output_type": "execute_result"
    }
   ],
   "source": [
    "X_sm, y_sm = smote.fit_resample(X_smote, y_smote)\n",
    "y_sm.value_counts()"
   ]
  },
  {
   "cell_type": "code",
   "execution_count": 43,
   "id": "78934986",
   "metadata": {},
   "outputs": [
    {
     "name": "stdout",
     "output_type": "stream",
     "text": [
      "{'Classifier Tree': 0.7459870776019272, 'Logistic Regression': 0.7303921182376911, 'KNN Classifier2': 0.7650623419407612, 'Decision_Tree': 0.7538277538891015}\n"
     ]
    }
   ],
   "source": [
    "model1 = DecisionTreeClassifier()\n",
    "model2 = LogisticRegression()\n",
    "model3 = KNeighborsClassifier()\n",
    "model4 = DecisionTreeClassifier(max_features=4, random_state=123, max_depth=6, min_samples_split=5, min_samples_leaf=1)\n",
    "\n",
    "model_pipeline = [model1, model2, model3, model4]\n",
    "model_names = ['Classifier Tree', 'Logistic Regression', 'KNN Classifier2', 'Decision_Tree']\n",
    "scores = {}\n",
    "i=0\n",
    "for model in model_pipeline:\n",
    "    mean_score = np.mean(cross_val_score(model, X_sm, y_sm, cv=10))\n",
    "    scores[model_names[i]] = mean_score\n",
    "    i = i+1\n",
    "               \n",
    "print(scores)"
   ]
  },
  {
   "cell_type": "markdown",
   "id": "51093d66",
   "metadata": {},
   "source": [
    "#### Method 3: Downsampling using Tomeklinks"
   ]
  },
  {
   "cell_type": "code",
   "execution_count": 44,
   "id": "9eb3b430",
   "metadata": {},
   "outputs": [
    {
     "data": {
      "text/plain": [
       "Churn\n",
       "No       5163\n",
       "Yes      1869\n",
       "dtype: int64"
      ]
     },
     "execution_count": 44,
     "metadata": {},
     "output_type": "execute_result"
    }
   ],
   "source": [
    "X_tomek=churnData[['tenure', 'SeniorCitizen', 'MonthlyCharges', 'TotalCharges']]\n",
    "\n",
    "y_tomek =churnData[['Churn']]\n",
    "y_tomek.value_counts()"
   ]
  },
  {
   "cell_type": "code",
   "execution_count": 45,
   "id": "245fe4f0",
   "metadata": {},
   "outputs": [
    {
     "data": {
      "text/plain": [
       "Churn\n",
       "No       4610\n",
       "Yes      1869\n",
       "dtype: int64"
      ]
     },
     "execution_count": 45,
     "metadata": {},
     "output_type": "execute_result"
    }
   ],
   "source": [
    "from imblearn.under_sampling import TomekLinks\n",
    "\n",
    "tl = TomekLinks('majority')\n",
    "X_tl, y_tl = tl.fit_resample(X_tomek, y_tomek)\n",
    "y_tl.value_counts()"
   ]
  },
  {
   "cell_type": "code",
   "execution_count": 46,
   "id": "e26da647",
   "metadata": {},
   "outputs": [
    {
     "name": "stdout",
     "output_type": "stream",
     "text": [
      "{'Classifier Tree': 0.7397752208674414, 'Logistic Regression': 0.7890133951571355, 'KNN Classifier2': 0.7780558894804129, 'Decision_Tree': 0.7928742820615566}\n"
     ]
    }
   ],
   "source": [
    "model1 = DecisionTreeClassifier()\n",
    "model2 = LogisticRegression()\n",
    "model3 = KNeighborsClassifier()\n",
    "model4 = DecisionTreeClassifier(max_features=4, random_state=123, max_depth=6, min_samples_split=5, min_samples_leaf=1)\n",
    "\n",
    "model_pipeline = [model1, model2, model3, model4]\n",
    "model_names = ['Classifier Tree', 'Logistic Regression', 'KNN Classifier2', 'Decision_Tree']\n",
    "scores = {}\n",
    "i=0\n",
    "for model in model_pipeline:\n",
    "    mean_score = np.mean(cross_val_score(model, X_tl, y_tl, cv=10))\n",
    "    scores[model_names[i]] = mean_score\n",
    "    i = i+1\n",
    "               \n",
    "print(scores)"
   ]
  },
  {
   "cell_type": "markdown",
   "id": "bee878ab",
   "metadata": {},
   "source": [
    "### Random Forest"
   ]
  },
  {
   "cell_type": "code",
   "execution_count": 47,
   "id": "9fbef37e",
   "metadata": {},
   "outputs": [],
   "source": [
    "from sklearn.ensemble import RandomForestClassifier"
   ]
  },
  {
   "cell_type": "code",
   "execution_count": 48,
   "id": "767e71ae",
   "metadata": {},
   "outputs": [
    {
     "name": "stdout",
     "output_type": "stream",
     "text": [
      "0.8757333333333334\n",
      "0.7590618336886994\n"
     ]
    }
   ],
   "source": [
    "\n",
    "X_randomf=churnData[['tenure', 'SeniorCitizen', 'MonthlyCharges', 'TotalCharges']]\n",
    "\n",
    "y_randomf =churnData[['Churn']]\n",
    "\n",
    "\n",
    "X_train, X_test, y_train, y_test = train_test_split(X_randomf, y_randomf, test_size=0.20, random_state=11)\n",
    "\n",
    "clf = RandomForestClassifier(max_depth=10,max_features=\"sqrt\",n_estimators=100,\n",
    "                             bootstrap=True,oob_score=True, random_state=0)\n",
    "\n",
    "\n",
    "\n",
    "\n",
    "clf.fit(X_train, y_train)\n",
    "print(clf.score(X_train, y_train))\n",
    "print(clf.score(X_test, y_test))"
   ]
  },
  {
   "cell_type": "code",
   "execution_count": 49,
   "id": "391bb707",
   "metadata": {},
   "outputs": [
    {
     "data": {
      "text/plain": [
       "array([0.8       , 0.79733333, 0.78488889, 0.78844444, 0.78666667])"
      ]
     },
     "execution_count": 49,
     "metadata": {},
     "output_type": "execute_result"
    }
   ],
   "source": [
    "from sklearn.model_selection import cross_val_score\n",
    "\n",
    "cross_val_scores = cross_val_score(clf, X_train, y_train, cv=5)\n",
    "cross_val_scores"
   ]
  },
  {
   "cell_type": "markdown",
   "id": "0de8b35a",
   "metadata": {},
   "source": [
    "### Implementing hyperparameter tuning"
   ]
  },
  {
   "cell_type": "markdown",
   "id": "b9628ee2",
   "metadata": {},
   "source": [
    "#### Grid Search"
   ]
  },
  {
   "cell_type": "markdown",
   "id": "b28a9af4",
   "metadata": {},
   "source": [
    "Let's take the data from downsampling and use random forest to see how balanced data works with random forest and make grid search after"
   ]
  },
  {
   "cell_type": "code",
   "execution_count": 50,
   "id": "8a05276d",
   "metadata": {},
   "outputs": [
    {
     "name": "stdout",
     "output_type": "stream",
     "text": [
      "0.8812709030100334\n",
      "0.7379679144385026\n"
     ]
    }
   ],
   "source": [
    "data \n",
    "\n",
    "X=data[['tenure', 'SeniorCitizen', 'MonthlyCharges', 'TotalCharges']]\n",
    "\n",
    "y=data[['Churn']]\n",
    "\n",
    "\n",
    "X_train, X_test, y_train, y_test = train_test_split(X, y, test_size=0.20, random_state=11)\n",
    "\n",
    "clf = RandomForestClassifier(max_depth=10,max_features=\"sqrt\",n_estimators=100,\n",
    "                             bootstrap=True,oob_score=True, random_state=0)\n",
    "\n",
    "\n",
    "clf.fit(X_train, y_train)\n",
    "print(clf.score(X_train, y_train))\n",
    "print(clf.score(X_test, y_test))"
   ]
  },
  {
   "cell_type": "code",
   "execution_count": 51,
   "id": "8857a703",
   "metadata": {},
   "outputs": [],
   "source": [
    "from sklearn.model_selection import GridSearchCV\n",
    "param_grid = {\n",
    "    'n_estimators': [50, 100,500],\n",
    "    'min_samples_split': [2, 4],\n",
    "    'min_samples_leaf' : [1, 2],\n",
    "    'max_features': ['sqrt']\n",
    "    ##'max_samples' : ['None', 0.5],\n",
    "    ##'max_depth':[3,5,10],\n",
    "    ## 'bootstrap':[True,False] \n",
    "    }\n",
    "clf = RandomForestClassifier(random_state=100)"
   ]
  },
  {
   "cell_type": "code",
   "execution_count": 53,
   "id": "c165e0d7",
   "metadata": {},
   "outputs": [],
   "source": [
    "grid_search = GridSearchCV(clf, param_grid, cv=5,return_train_score=True, n_jobs=-1,)"
   ]
  },
  {
   "cell_type": "code",
   "execution_count": 54,
   "id": "16a5918c",
   "metadata": {},
   "outputs": [
    {
     "data": {
      "text/plain": [
       "GridSearchCV(cv=5, estimator=RandomForestClassifier(random_state=100),\n",
       "             n_jobs=-1,\n",
       "             param_grid={'max_features': ['sqrt'], 'min_samples_leaf': [1, 2],\n",
       "                         'min_samples_split': [2, 4],\n",
       "                         'n_estimators': [50, 100, 500]},\n",
       "             return_train_score=True)"
      ]
     },
     "execution_count": 54,
     "metadata": {},
     "output_type": "execute_result"
    }
   ],
   "source": [
    "grid_search.fit(X_train,y_train)"
   ]
  },
  {
   "cell_type": "code",
   "execution_count": 55,
   "id": "99e325f0",
   "metadata": {},
   "outputs": [
    {
     "name": "stdout",
     "output_type": "stream",
     "text": [
      "{'max_features': 'sqrt', 'min_samples_leaf': 2, 'min_samples_split': 2, 'n_estimators': 100}\n"
     ]
    }
   ],
   "source": [
    "#grid_search.best_params_   #To check the best set of parameters returned\n",
    "\n",
    "print(grid_search.best_params_)"
   ]
  },
  {
   "cell_type": "markdown",
   "id": "140c2dec",
   "metadata": {},
   "source": [
    " And now, take the recommended best params and use them to see"
   ]
  },
  {
   "cell_type": "code",
   "execution_count": 56,
   "id": "437ffe2d",
   "metadata": {},
   "outputs": [
    {
     "name": "stdout",
     "output_type": "stream",
     "text": [
      "0.714046822742475\n"
     ]
    }
   ],
   "source": [
    "from sklearn.model_selection import cross_val_score\n",
    "clf = RandomForestClassifier(random_state=0, max_features='sqrt', \n",
    "                             min_samples_leaf=2, min_samples_split=2, n_estimators=100)\n",
    "cross_val_scores = cross_val_score(clf, X_train, y_train, cv=10)\n",
    "print(np.mean(cross_val_scores))"
   ]
  },
  {
   "cell_type": "code",
   "execution_count": null,
   "id": "66d98ff4",
   "metadata": {},
   "outputs": [],
   "source": []
  }
 ],
 "metadata": {
  "kernelspec": {
   "display_name": "Python 3 (ipykernel)",
   "language": "python",
   "name": "python3"
  },
  "language_info": {
   "codemirror_mode": {
    "name": "ipython",
    "version": 3
   },
   "file_extension": ".py",
   "mimetype": "text/x-python",
   "name": "python",
   "nbconvert_exporter": "python",
   "pygments_lexer": "ipython3",
   "version": "3.9.7"
  }
 },
 "nbformat": 4,
 "nbformat_minor": 5
}
