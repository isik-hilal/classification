{
 "cells": [
  {
   "cell_type": "markdown",
   "id": "40758259",
   "metadata": {},
   "source": [
    "# Cross Validation"
   ]
  },
  {
   "cell_type": "markdown",
   "id": "dfd00baf",
   "metadata": {},
   "source": [
    "## Decision Trees Regression"
   ]
  },
  {
   "cell_type": "code",
   "execution_count": 45,
   "id": "537b1e49",
   "metadata": {},
   "outputs": [],
   "source": [
    "import pandas as pd\n",
    "import numpy as np\n",
    "\n",
    "from sklearn.datasets import load_boston\n",
    "from sklearn.datasets import load_iris\n",
    "\n",
    "from sklearn.model_selection import cross_val_score\n",
    "from sklearn.model_selection import cross_val_predict\n",
    "\n",
    "from sklearn.model_selection import train_test_split\n",
    "\n",
    "from sklearn.linear_model import LinearRegression\n",
    "from sklearn.neighbors import KNeighborsRegressor\n",
    "from sklearn.tree import DecisionTreeClassifier\n",
    "from sklearn.tree import DecisionTreeRegressor\n",
    "import warnings\n",
    "warnings.filterwarnings('ignore')"
   ]
  },
  {
   "cell_type": "code",
   "execution_count": 46,
   "id": "4071e58b",
   "metadata": {},
   "outputs": [
    {
     "name": "stdout",
     "output_type": "stream",
     "text": [
      "(506, 13)\n",
      "(506,)\n",
      "(404, 13)\n"
     ]
    },
    {
     "data": {
      "text/plain": [
       "0.8350374212848092"
      ]
     },
     "execution_count": 46,
     "metadata": {},
     "output_type": "execute_result"
    }
   ],
   "source": [
    "X, y = load_boston(return_X_y=True)\n",
    "print(X.shape)\n",
    "print(y.shape)\n",
    "\n",
    "X_train, X_test, y_train, y_test = train_test_split(X, y, test_size=0.20)\n",
    "model = DecisionTreeRegressor()\n",
    "model.fit(X_train, y_train)\n",
    "\n",
    "print(X_train.shape)\n",
    "model.score(X_test, y_test)"
   ]
  },
  {
   "cell_type": "code",
   "execution_count": 47,
   "id": "742ecb30",
   "metadata": {},
   "outputs": [
    {
     "data": {
      "text/plain": [
       "array([0.82183445, 0.79376068, 0.86303078, 0.77187083, 0.65523857,\n",
       "       0.74327342, 0.86630231, 0.77011205, 0.70328343, 0.48740641])"
      ]
     },
     "execution_count": 47,
     "metadata": {},
     "output_type": "execute_result"
    }
   ],
   "source": [
    "scores=cross_val_score(model, X_train, y_train, cv=10)\n",
    "scores"
   ]
  },
  {
   "cell_type": "markdown",
   "id": "258cda36",
   "metadata": {},
   "source": [
    "cv is K which means how many groups I create for cross validation\n",
    "\n",
    "below when I print, I print the average of the all values in the array"
   ]
  },
  {
   "cell_type": "code",
   "execution_count": 48,
   "id": "69b3b5f6",
   "metadata": {},
   "outputs": [
    {
     "name": "stdout",
     "output_type": "stream",
     "text": [
      "0.75 accuracy with a standard deviation of 0.11\n"
     ]
    }
   ],
   "source": [
    "print(\"%0.2f accuracy with a standard deviation of %0.2f\" % (scores.mean(), scores.std()))"
   ]
  },
  {
   "cell_type": "markdown",
   "id": "145060df",
   "metadata": {},
   "source": [
    "## Decision Trees Classification"
   ]
  },
  {
   "cell_type": "code",
   "execution_count": 38,
   "id": "c8d08d64",
   "metadata": {},
   "outputs": [
    {
     "name": "stdout",
     "output_type": "stream",
     "text": [
      "(150, 4)\n",
      "(150,)\n"
     ]
    },
    {
     "data": {
      "text/plain": [
       "0.9"
      ]
     },
     "execution_count": 38,
     "metadata": {},
     "output_type": "execute_result"
    }
   ],
   "source": [
    "X, y = load_iris(return_X_y=True)\n",
    "print(X.shape)\n",
    "print(y.shape)\n",
    "\n",
    "\n",
    "X_train, X_test, y_train, y_test = train_test_split(X, y, test_size=0.20)\n",
    "mo= DecisionTreeClassifier()del \n",
    "model.fit(X_train, y_train)\n",
    "model.score(X_test, y_test)"
   ]
  },
  {
   "cell_type": "code",
   "execution_count": 39,
   "id": "02957e88",
   "metadata": {},
   "outputs": [
    {
     "data": {
      "text/plain": [
       "array([0, 0, 0, 0, 0, 0, 0, 0, 0, 0, 0, 0, 0, 0, 0, 0, 0, 0, 0, 0, 0, 0,\n",
       "       0, 0, 0, 0, 0, 0, 0, 0, 0, 0, 0, 0, 0, 0, 0, 0, 0, 0, 0, 0, 0, 0,\n",
       "       0, 0, 0, 0, 0, 0, 1, 1, 1, 1, 1, 1, 1, 1, 1, 1, 1, 1, 1, 1, 1, 1,\n",
       "       1, 1, 1, 1, 1, 1, 1, 1, 1, 1, 1, 1, 1, 1, 1, 1, 1, 1, 1, 1, 1, 1,\n",
       "       1, 1, 1, 1, 1, 1, 1, 1, 1, 1, 1, 1, 2, 2, 2, 2, 2, 2, 2, 2, 2, 2,\n",
       "       2, 2, 2, 2, 2, 2, 2, 2, 2, 2, 2, 2, 2, 2, 2, 2, 2, 2, 2, 2, 2, 2,\n",
       "       2, 2, 2, 2, 2, 2, 2, 2, 2, 2, 2, 2, 2, 2, 2, 2, 2, 2])"
      ]
     },
     "execution_count": 39,
     "metadata": {},
     "output_type": "execute_result"
    }
   ],
   "source": [
    "y"
   ]
  },
  {
   "cell_type": "markdown",
   "id": "26cb8efe",
   "metadata": {},
   "source": [
    "<b> multi class problem "
   ]
  },
  {
   "cell_type": "code",
   "execution_count": 40,
   "id": "60f60726",
   "metadata": {},
   "outputs": [
    {
     "data": {
      "text/plain": [
       "{0, 1, 2}"
      ]
     },
     "execution_count": 40,
     "metadata": {},
     "output_type": "execute_result"
    }
   ],
   "source": [
    "set(y)"
   ]
  },
  {
   "cell_type": "markdown",
   "id": "89ea1035",
   "metadata": {},
   "source": [
    "Let's run cross validation and shuffle a bit to check"
   ]
  },
  {
   "cell_type": "code",
   "execution_count": 41,
   "id": "c64e6a48",
   "metadata": {},
   "outputs": [
    {
     "data": {
      "text/plain": [
       "array([0.95833333, 0.91666667, 0.95833333, 1.        , 0.95833333])"
      ]
     },
     "execution_count": 41,
     "metadata": {},
     "output_type": "execute_result"
    }
   ],
   "source": [
    "scores=cross_val_score(model, X_train, y_train, cv=5)\n",
    "scores"
   ]
  },
  {
   "cell_type": "code",
   "execution_count": 42,
   "id": "1ffbac67",
   "metadata": {},
   "outputs": [
    {
     "name": "stdout",
     "output_type": "stream",
     "text": [
      "0.96 accuracy with a standard deviation of 0.03\n"
     ]
    }
   ],
   "source": [
    "print(\"%0.2f accuracy with a standard deviation of %0.2f\" % (scores.mean(), scores.std()))"
   ]
  },
  {
   "cell_type": "code",
   "execution_count": 44,
   "id": "3a2281d6",
   "metadata": {},
   "outputs": [
    {
     "data": {
      "text/plain": [
       "array([0, 0, 1, 1, 1, 1, 0, 2, 2, 0, 0, 1, 1, 2, 2, 0, 1, 0, 2, 2, 2, 1,\n",
       "       0, 0, 1, 0, 1, 0, 1, 1])"
      ]
     },
     "execution_count": 44,
     "metadata": {},
     "output_type": "execute_result"
    }
   ],
   "source": [
    "y_test"
   ]
  },
  {
   "cell_type": "code",
   "execution_count": 43,
   "id": "430eddb0",
   "metadata": {},
   "outputs": [
    {
     "data": {
      "text/plain": [
       "array([0, 0, 1, 2, 1, 1, 0, 2, 1, 0, 0, 1, 2, 2, 1, 0, 1, 0, 2, 1, 2, 1,\n",
       "       0, 0, 1, 0, 1, 0, 1, 1])"
      ]
     },
     "execution_count": 43,
     "metadata": {},
     "output_type": "execute_result"
    }
   ],
   "source": [
    "y_pred = cross_val_predict(model, X_test, y_test, cv=5)\n",
    "y_pred"
   ]
  },
  {
   "cell_type": "markdown",
   "id": "721b1fd5",
   "metadata": {},
   "source": [
    "### Models Comparision"
   ]
  },
  {
   "cell_type": "code",
   "execution_count": 50,
   "id": "9d62a2bc",
   "metadata": {},
   "outputs": [
    {
     "name": "stdout",
     "output_type": "stream",
     "text": [
      "{'Regression Tree': 0.6393644767346689, 'Linear Regression': 0.7031521578026747, 'KNN': 0.47986806220995176}\n"
     ]
    }
   ],
   "source": [
    "model1 = DecisionTreeRegressor()\n",
    "\n",
    "model2 = LinearRegression()\n",
    "\n",
    "model3 = KNeighborsRegressor()\n",
    "\n",
    "\n",
    "model_pipeline = [model1, model2, model3]\n",
    "model_names = ['Regression Tree', 'Linear Regression', 'KNN']\n",
    "scores = {}\n",
    "i=0\n",
    "for model in model_pipeline:\n",
    "    mean_score = np.mean(cross_val_score(model, X_train, y_train, cv=5))\n",
    "    scores[model_names[i]] = mean_score\n",
    "    i = i+1\n",
    "print(scores)"
   ]
  },
  {
   "cell_type": "markdown",
   "id": "4210d74d",
   "metadata": {},
   "source": [
    "I compare the 3 modelas with each others above"
   ]
  }
 ],
 "metadata": {
  "kernelspec": {
   "display_name": "Python 3 (ipykernel)",
   "language": "python",
   "name": "python3"
  },
  "language_info": {
   "codemirror_mode": {
    "name": "ipython",
    "version": 3
   },
   "file_extension": ".py",
   "mimetype": "text/x-python",
   "name": "python",
   "nbconvert_exporter": "python",
   "pygments_lexer": "ipython3",
   "version": "3.9.7"
  }
 },
 "nbformat": 4,
 "nbformat_minor": 5
}
